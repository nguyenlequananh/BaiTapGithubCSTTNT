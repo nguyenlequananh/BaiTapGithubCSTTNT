{
 "cells": [
  {
   "cell_type": "markdown",
   "id": "b7f4781d-052a-4236-8f90-2974b7cbcaa4",
   "metadata": {},
   "source": [
    "# 2_3123411016_NguyenLeQuanAnh"
   ]
  },
  {
   "cell_type": "markdown",
   "id": "17f43145-b0e4-46a3-b3b5-ca9f0bf58c63",
   "metadata": {},
   "source": [
    "## my_lesson2"
   ]
  },
  {
   "cell_type": "markdown",
   "id": "aac45c76-9d0c-42fe-b034-c1d16b6b8df4",
   "metadata": {},
   "source": [
    "### bắt đầu"
   ]
  },
  {
   "cell_type": "code",
   "execution_count": 306,
   "id": "4db53352-1c3f-49b6-88b4-d36d207a7022",
   "metadata": {
    "scrolled": true
   },
   "outputs": [
    {
     "name": "stdin",
     "output_type": "stream",
     "text": [
      "Moi ban nhap vao gia tri cua bien so x:  3\n"
     ]
    },
    {
     "name": "stdout",
     "output_type": "stream",
     "text": [
      "Gia tri cua ham so f(3.0) =  9.00.\n"
     ]
    }
   ],
   "source": [
    "# Khai báo thư viện\n",
    "import math\n",
    "\n",
    "# Nhập dữ liệu\n",
    "x   = float(input('Moi ban nhap vao gia tri cua bien so x: '))\n",
    "# Xử lý\n",
    "f_x = x**2\n",
    "# ...\n",
    "\n",
    "# Xuất dữ liệu\n",
    "print(f'Gia tri cua ham so f({x}) = {f_x: .2f}.')"
   ]
  },
  {
   "cell_type": "code",
   "execution_count": 26,
   "id": "afd630b5-7cd3-447e-8ca1-c463e3713862",
   "metadata": {},
   "outputs": [
    {
     "name": "stdin",
     "output_type": "stream",
     "text": [
      "Nhap vao tong so giay:  4180\n"
     ]
    },
    {
     "name": "stdout",
     "output_type": "stream",
     "text": [
      "4180 giay co dang 1:9:40\n"
     ]
    }
   ],
   "source": [
    "# Nhập dữ liệu\n",
    "t  = int(input('Nhap vao tong so giay: '))\n",
    "\n",
    "# Xử lý\n",
    "hh = t // 3600\n",
    "mm = (t%3600) //60\n",
    "ss = ((t%3600)%60) \n",
    "\n",
    "\n",
    "# ...\n",
    "\n",
    "# Xuất dữ liệu\n",
    "print(f'{t} giay co dang {hh}:{mm}:{ss}')"
   ]
  },
  {
   "cell_type": "code",
   "execution_count": 52,
   "id": "130d9aad-cc71-4065-a6e7-faca9313767b",
   "metadata": {},
   "outputs": [
    {
     "name": "stdin",
     "output_type": "stream",
     "text": [
      "Moi ban nhap he so a:  0\n",
      "Moi ban nhap he so b:  2\n"
     ]
    },
    {
     "name": "stdout",
     "output_type": "stream",
     "text": [
      "Phuong trinh 0x + 2 = 0 vo nghiem.\n"
     ]
    }
   ],
   "source": [
    "# Nhập dữ liệu\n",
    "a  = int(input('Moi ban nhap he so a: '))\n",
    "b  = int(input('Moi ban nhap he so b: '))\n",
    "\n",
    "# Xử lý\n",
    "flag = None\n",
    "if a == 0 and b!=0:\n",
    "    flag = 0\n",
    "if a == 0 and b == 0:\n",
    "    flag = -1\n",
    "if  a != 0:\n",
    "    x = -b / a\n",
    "# ...\n",
    "    \n",
    "# Xuất dữ liệu\n",
    "s = f'Phuong trinh {a}x + {b} = 0'\n",
    "if flag == -1:\n",
    "    print(f'{s} vo so nghiem.')\n",
    "elif flag == 0:\n",
    "    print(f'{s} vo nghiem.')\n",
    "else:\n",
    "    print(f'{s} co 1 nghiem x = {x: .2f}.')\n",
    "# if"
   ]
  },
  {
   "cell_type": "code",
   "execution_count": 74,
   "id": "7452d5f0-46f1-4376-8176-eb4a2c484070",
   "metadata": {},
   "outputs": [
    {
     "name": "stdin",
     "output_type": "stream",
     "text": [
      "Moi ban nhap so nguyen n:  100\n"
     ]
    },
    {
     "name": "stdout",
     "output_type": "stream",
     "text": [
      "Tong cac so chan tu 1 den 100 la 2550.\n"
     ]
    }
   ],
   "source": [
    "# Nhập dữ liệu\n",
    "n   = int(input(\"Moi ban nhap so nguyen n: \"))\n",
    "\n",
    "# Xuất dữ liệu\n",
    "s   = 0\n",
    "for i in range(1,n+1,1) :\n",
    "    if i % 2 == 0:\n",
    "        s = s + i\n",
    "# ...\n",
    "\n",
    "print(f'Tong cac so chan tu 1 den {n} la {s}.')"
   ]
  },
  {
   "cell_type": "code",
   "execution_count": 60,
   "id": "f75df97a-c488-4230-bc36-fe09fc843e18",
   "metadata": {},
   "outputs": [
    {
     "name": "stdin",
     "output_type": "stream",
     "text": [
      "Moi ban nhap chuoi ky so s:  muoi\n"
     ]
    },
    {
     "name": "stdout",
     "output_type": "stream",
     "text": [
      "Chuoi vua nhao khong hop le\n"
     ]
    }
   ],
   "source": [
    "s = input(\"Moi ban nhap chuoi ky so s: \")\n",
    "\n",
    "en  = [\"zero\", \"one\", \"two\", \"three\", \"four\", \"five\", \"six\", \"seven\", \"eight\", \"nine\"]\n",
    "vi  = [\"khong\", \"mot\", \"hai\", \"ba\", \"bon\", \"nam\", \"sau\", \"bay\", \"tam\", \"chin\"]\n",
    "num = [0, 1, 2, 3, 4, 5, 6, 7, 8, 9]\n",
    "index = None\n",
    "so = None\n",
    "check = False\n",
    "for i, number in enumerate(en) :\n",
    "    if number == s :\n",
    "        index =i\n",
    "        check = True\n",
    "        so = vi[index]\n",
    "        break\n",
    "if check == True :\n",
    "    print(f'Chuoi vua nhap hop le!')\n",
    "    print(f'\"{s}\" bieu dien cho \"{index}\" va ung voi Tieng Viet \"{so}\"')\n",
    "else :\n",
    "    print(f'Chuoi vua nhao khong hop le')\n",
    "# ..."
   ]
  },
  {
   "cell_type": "code",
   "execution_count": 130,
   "id": "203a6636-1c0e-4dcd-afbb-82f7639f2d46",
   "metadata": {},
   "outputs": [
    {
     "name": "stdin",
     "output_type": "stream",
     "text": [
      "Moi ban nhap so nguyen n:  97\n"
     ]
    },
    {
     "name": "stdout",
     "output_type": "stream",
     "text": [
      "97 la so nguyen to.\n"
     ]
    }
   ],
   "source": [
    "import math\n",
    "# Nhập dữ liệu\n",
    "n   = int(input(\"Moi ban nhap so nguyen n: \"))\n",
    "\n",
    "# Xử lý\n",
    "lant = True\n",
    "if n < 2 :\n",
    "    lant = False\n",
    "else :\n",
    "    for i in range(2,int(math.sqrt(n)+1),1) :\n",
    "        if n % i == 0 :\n",
    "            lant = False\n",
    "            break\n",
    "# ...\n",
    "\n",
    "# Xuất dữ liệu\n",
    "if lant == True:\n",
    "    print(f'{n} la so nguyen to.')\n",
    "else:\n",
    "    print(f'{n} khong la so nguyen to.')"
   ]
  },
  {
   "cell_type": "code",
   "execution_count": 166,
   "id": "06f47672-93e5-4413-a45a-f8332133d5b8",
   "metadata": {},
   "outputs": [],
   "source": [
    "def NhapDuLieu():\n",
    "    \"\"\"\n",
    "    Input: \n",
    "        Ban phim = 1 5 6\n",
    "    Output:\n",
    "        (a, b, c) --> (1, 5, 6)\n",
    "    \"\"\"\n",
    "    \"\"\" CÁC BẠN LÀM BÀI Ở ĐÂY \"\"\"    \n",
    "    # ...\n",
    "    listSo = list(map(int,input(\"nhap vao a, b, c :\").split(\" \")))\n",
    "    a = listSo[0]\n",
    "    b = listSo[1]\n",
    "    c = listSo[2]\n",
    "    return a,b,c"
   ]
  },
  {
   "cell_type": "code",
   "execution_count": 194,
   "id": "47704a53-f075-4ec8-aadb-353f0aa9990e",
   "metadata": {},
   "outputs": [],
   "source": [
    "def GiaiPhuongTrinhBac2(a, b, c):\n",
    "    import math\n",
    "    flag = None\n",
    "    x = ()\n",
    "\n",
    "    if a == 0:\n",
    "        if b == 0:\n",
    "            if c == 0:\n",
    "                flag = -1\n",
    "            else :\n",
    "                flag = 0\n",
    "        else:\n",
    "            flag = 1\n",
    "            x = (-c/b,0)\n",
    "    else :\n",
    "        delta = b**2 - 4*a*c\n",
    "        if delta < 0:\n",
    "            flag = 0\n",
    "        else :\n",
    "            if delta == 0:\n",
    "                flag = 1\n",
    "                x = (-b/2*a,0)\n",
    "            if  delta > 0 :\n",
    "               flag = 2\n",
    "               x = ((-b + math.sqrt(delta))/2*a , (b + math.sqrt(delta))/2*a) \n",
    "\n",
    "    # ...    \n",
    "    \n",
    "    return flag, x\n",
    "# GiaiPhuongTrinhBac2"
   ]
  },
  {
   "cell_type": "code",
   "execution_count": 198,
   "id": "29e39df0-98ce-4993-8c81-fe4a932f7db5",
   "metadata": {},
   "outputs": [
    {
     "name": "stdin",
     "output_type": "stream",
     "text": [
      "nhap vao a, b, c : 0 1 0\n"
     ]
    },
    {
     "name": "stdout",
     "output_type": "stream",
     "text": [
      "Phuong trinh bac 2 0x^2 + 1x + 0 = 0 co 1 nghiem, x = 0.0!\n"
     ]
    }
   ],
   "source": [
    "# Kết nối bài\n",
    "a, b, c = NhapDuLieu()\n",
    "# Gọi hàm giải\n",
    "flag, x = GiaiPhuongTrinhBac2(a, b, c)\n",
    "# Xuất dữ liệu\n",
    "s = f'Phuong trinh bac 2 {a}x^2 + {b}x + {c} = 0'\n",
    "if flag == -1:\n",
    "    print(f'{s} co vo so nghiem!')\n",
    "elif flag == 0:\n",
    "    print(f'{s} vo nghiem!')\n",
    "elif flag == 1:\n",
    "    print(f'{s} co 1 nghiem, x = {x[0]}!')\n",
    "elif flag == 2:\n",
    "    print(f'{s} co 2 nghiem, x1 = {x[0]}, x2 = {x[1]}!')"
   ]
  },
  {
   "cell_type": "code",
   "execution_count": 212,
   "id": "970f2c5d-3972-46cb-99e8-ca1b7ed5aa23",
   "metadata": {},
   "outputs": [],
   "source": [
    "def NhapMang():\n",
    "    \"\"\"\n",
    "    Input:\n",
    "        Ban phim = 1 4 1 2 3 4 1 2 3 3 1 2 3 4 10 2\n",
    "    Output:\n",
    "        a = [1, 4, 1, 2, 3, 4, 1, 2, 3, 3, 1, 2, 3, 4, 10, 2]\n",
    "    \"\"\"\n",
    "    \"\"\" CÁC BẠN LÀM BÀI Ở ĐÂY \"\"\"\n",
    "    a = list(map(int,input(\"nhap mang so nguyen ( cach nhau bang dau cach ) :\").split(\" \")))\n",
    "\n",
    "    #print(listMang)\n",
    "    # ...\n",
    "    \n",
    "    return a\n",
    "# NhapMang"
   ]
  },
  {
   "cell_type": "code",
   "execution_count": 216,
   "id": "8f9871cf-bde4-4f7a-86d4-ef95094dd909",
   "metadata": {},
   "outputs": [
    {
     "name": "stdin",
     "output_type": "stream",
     "text": [
      "nhap mang so nguyen ( cach nhau bang dau cach ) : 3 3 2\n"
     ]
    },
    {
     "name": "stdout",
     "output_type": "stream",
     "text": [
      "[3, 3, 2]\n"
     ]
    }
   ],
   "source": [
    "print(NhapMang())"
   ]
  },
  {
   "cell_type": "code",
   "execution_count": 234,
   "id": "39103f55-a7ff-4e39-85dd-94242b9b7433",
   "metadata": {},
   "outputs": [],
   "source": [
    "def XuatMang(a):\n",
    "    \"\"\"\n",
    "    Input:\n",
    "        a = [1, 4, 1, 2, 3, 4, 1, 2, 3, 3, 1, 2, 3, 4, 10, 2]\n",
    "    Output: \n",
    "        In ra man hinh:\n",
    "            Mang co 16 phan tu: 1 4 1 2 3 4 1 2 3 3 1 2 3 4 10 2 \n",
    "    \"\"\"\n",
    "    \"\"\" CÁC BẠN LÀM BÀI Ở ĐÂY \"\"\"\n",
    "    \n",
    "    print(f'Mang co {len(a)} phan tu:',end=\" \")\n",
    "    print(a,sep=\" \")\n",
    "        \n",
    "    # ...\n",
    "    \n",
    "# XuatMang"
   ]
  },
  {
   "cell_type": "code",
   "execution_count": 240,
   "id": "d7aea5b5-a89c-4f9c-9084-fac88fa71f0b",
   "metadata": {},
   "outputs": [
    {
     "name": "stdout",
     "output_type": "stream",
     "text": [
      "Mang co 20 phan tu: [1, 4, 1, 2, 3, 4, 1, 2, 3, 3, 1, 2, 3, 4, 10, 2, 3, 3, 3, 3]\n"
     ]
    }
   ],
   "source": [
    "a = [1, 4, 1, 2, 3, 4, 1, 2, 3, 3, 1, 2, 3, 4, 10, 2,3,3,3,3]\n",
    "XuatMang(a)"
   ]
  },
  {
   "cell_type": "code",
   "execution_count": 258,
   "id": "99b40102-bbb0-4696-8382-702a9fa2291f",
   "metadata": {},
   "outputs": [],
   "source": [
    "import random\n",
    "def SinhNgauNhien(n, vmin =-10 , vmax= 10 ):\n",
    "    \"\"\"\n",
    "    Input:\n",
    "        n = 30, vmin = -10, vmax = 10\n",
    "    Output:\n",
    "        a = [-1, -4, -8, 6, 4, -5, -1, -4, -9, -5, -10, 0, -6, 2, 1, -9, -9, 10, -8, -9, -7, 9, 2, -4, -1, -6, 5, -6, 9, -8]\n",
    "    \"\"\"    \n",
    "    a = []\n",
    "    \"\"\" CÁC BẠN LÀM BÀI Ở ĐÂY \"\"\"\n",
    "    for i in range (1,n+1,1):\n",
    "        a.append(random.randint(vmin,vmax))\n",
    "    # ...\n",
    "    \n",
    "    return a\n",
    "# SinhNgauNhien"
   ]
  },
  {
   "cell_type": "code",
   "execution_count": 260,
   "id": "00cb7e6e-7e72-4027-ae64-620be3d281b6",
   "metadata": {},
   "outputs": [
    {
     "name": "stdout",
     "output_type": "stream",
     "text": [
      "[-5, 1, 9, -3, -1, -9, 0, -10, 4, 10, -10, -10, 5, 4, -10, 5, -6, -8, 1, -3, 4, 6, -2, 10, 5, -3, -9, -2, 4, 0]\n",
      "[7, 10, 1, 9, 9, 9, 0, 8, 9, 2, 3, 5, 2, 0, 3, 7, 4, 3, 3, 8, 6, 2, 6, 10, 1, 8, 8, 9, 7, 2]\n",
      "[-10, -6, -9, -5, -8, 1, -6, -7, -7, -7, -1, 2, -8, 0, -1, -9, -3, -6, -5, 0, -10, -6, 2, -9, -10, 0, 2, -7, -8, 0]\n"
     ]
    }
   ],
   "source": [
    "b = SinhNgauNhien(30, -10, 10)\n",
    "print(b)\n",
    "b = SinhNgauNhien(30, vmin = 0)\n",
    "print(b)\n",
    "b = SinhNgauNhien(30, vmax = 2)\n",
    "print(b)"
   ]
  },
  {
   "cell_type": "code",
   "execution_count": 272,
   "id": "a4c87686-5b27-4ec3-b446-f501f6002586",
   "metadata": {},
   "outputs": [],
   "source": [
    "def DemTongChanLe(a):\n",
    "    \"\"\"\n",
    "    Input: a[] = [1, 4, 2, 0, -1, -7, 3, -6, 4, 9, -5, 7, 7, -7, -10, 1, -10, 9, -4, -6, 10, -2, -10, -8, -3, 2, -7, -10, 6, 0]\n",
    "    Output: tong, sochan, sole\n",
    "    \"\"\"\n",
    "    tong = 0\n",
    "    sochan = 0\n",
    "    sole = 0\n",
    "    \n",
    "    \"\"\" CÁC BẠN LÀM BÀI Ở ĐÂY \"\"\"\n",
    "    for i in a :\n",
    "        tong = tong + i\n",
    "        if i % 2 == 0 :\n",
    "            sochan = sochan + 1\n",
    "        else :\n",
    "            sole = sole + 1\n",
    "    # ...\n",
    "    \n",
    "    return tong, sochan, sole\n",
    "# DemTongChanLe"
   ]
  },
  {
   "cell_type": "code",
   "execution_count": 274,
   "id": "306db777-6b7b-4108-aaae-8ff4ac55c620",
   "metadata": {},
   "outputs": [
    {
     "name": "stdout",
     "output_type": "stream",
     "text": [
      "(-31, 17, 13)\n",
      "(141, 17, 13)\n"
     ]
    }
   ],
   "source": [
    "a = [1, 4, 2, 0, -1, -7, 3, -6, 4, 9, -5, 7, 7, -7, -10, 1, -10, 9, -4, -6, 10, -2, -10, -8, -3, 2, -7, -10, 6, 0]\n",
    "print(DemTongChanLe(a))\n",
    "a = [9, 6, 5, 0, 8, 8, 1, 10, 0, 0, 1, 1, 2, 7, 1, 10, 9, 1, 10, 8, 2, 8, 4, 5, 4, 5, 5, 3, 6, 2]\n",
    "print(DemTongChanLe(a))"
   ]
  },
  {
   "cell_type": "code",
   "execution_count": 276,
   "id": "a9b192ed-93d5-4d39-a10c-43545d79b607",
   "metadata": {},
   "outputs": [],
   "source": [
    "def DayChanLe(a): # Gia tri tra ve\n",
    "    \"\"\"\n",
    "    Input:\n",
    "        a = [1, 4, 2, 0, -1, -7, 3, -6, 4, 9, -5, 7, 7, -7, -10, 1, -10, 9, -4, -6, 10, -2, -10, -8, -3, 2, -7, -10, 6, 0]\n",
    "    Output: (achan, ale)\n",
    "        achan = [4, 2, 0, -6, 4, -10, -10, -4, -6, 10, -2, -10, -8, 2, -10, 6, 0]\n",
    "        ale = [1, -1, -7, 3, 9, -5, 7, 7, -7, 1, 9, -3, -7]\n",
    "    \"\"\"    \n",
    "    achan = []\n",
    "    ale = []\n",
    "    \n",
    "    \"\"\" CÁC BẠN LÀM BÀI Ở ĐÂY \"\"\"\n",
    "    for i in a :\n",
    "        if i % 2 == 0 :\n",
    "            achan.append(i)\n",
    "        else:\n",
    "            ale.append(i)\n",
    "    # ...\n",
    "    \n",
    "    return achan, ale\n",
    "# DayChanLe"
   ]
  },
  {
   "cell_type": "code",
   "execution_count": 278,
   "id": "ba0cda70-c975-4119-be33-8ec7df6944d3",
   "metadata": {},
   "outputs": [
    {
     "name": "stdout",
     "output_type": "stream",
     "text": [
      "DayChanLe:\n",
      "Chan = [4, 2, 0, -6, 4, -10, -10, -4, -6, 10, -2, -10, -8, 2, -10, 6, 0]\n",
      "Le = [1, -1, -7, 3, 9, -5, 7, 7, -7, 1, 9, -3, -7]\n",
      "\n"
     ]
    }
   ],
   "source": [
    "a = [1, 4, 2, 0, -1, -7, 3, -6, 4, 9, -5, 7, 7, -7, -10, 1, -10, 9, -4, -6, 10, -2, -10, -8, -3, 2, -7, -10, 6, 0]\n",
    "achan, ale = DayChanLe(a)\n",
    "print(f'DayChanLe:\\nChan = {achan}\\nLe = {ale}\\n')"
   ]
  },
  {
   "cell_type": "code",
   "execution_count": 288,
   "id": "f8ab02f4-c3b7-491a-9c06-8a92ea173399",
   "metadata": {},
   "outputs": [],
   "source": [
    "def XuLyKhongTrung(a):\n",
    "    \"\"\"\n",
    "    Input:\n",
    "        a = ['A', 'G', 'C', 'A', 'C', 'F', 'F', 'T', 'H']\n",
    "    Output:\n",
    "        s = ['A', 'C', 'F', 'G', 'H', 'T']\n",
    "    \"\"\"\n",
    "    s = set(a)\n",
    "    \"\"\" CÁC BẠN LÀM BÀI Ở ĐÂY \"\"\"\n",
    "    \n",
    "    # ...\n",
    "        \n",
    "    return sorted(s)\n",
    "# XuLyKhongTrung"
   ]
  },
  {
   "cell_type": "code",
   "execution_count": 290,
   "id": "0401a5a3-05b5-4fee-8213-c10b9bc381c2",
   "metadata": {},
   "outputs": [
    {
     "name": "stdout",
     "output_type": "stream",
     "text": [
      "['A', 'C', 'F', 'G', 'H', 'T']\n"
     ]
    }
   ],
   "source": [
    "a = ['A', 'G', 'C', 'A', 'C', 'F', 'F', 'T', 'H']\n",
    "b = XuLyKhongTrung(a)\n",
    "print(b)"
   ]
  },
  {
   "cell_type": "code",
   "execution_count": 300,
   "id": "8e8016ee-9e94-47a3-8268-569b95158ea4",
   "metadata": {},
   "outputs": [
    {
     "name": "stdout",
     "output_type": "stream",
     "text": [
      "{'A': 2, 'G': 1, 'C': 2, 'F': 2, 'T': 1, 'H': 1}\n"
     ]
    }
   ],
   "source": [
    "def DemSoLanXuatHien(a):\n",
    "    \"\"\"\n",
    "    Input:\n",
    "        a = ['A', 'G', 'C', 'A', 'C', 'F', 'F', 'T', 'H']\n",
    "    Output:\n",
    "        dem = {'A': 2, 'G': 1, 'C': 2, 'F': 2, 'T': 1, 'H': 1}\n",
    "    \"\"\"\n",
    "    dem = {}  # Dictionary chứa (ký tự: số lần xuất hiện)\n",
    "    \n",
    "    for i in a:  # Duyệt từng phần tử trong danh sách\n",
    "        dem[i] = dem.get(i, 0) + 1  # Tăng số lần xuất hiện của ký tự i\n",
    "\n",
    "    return dem\n",
    "\n",
    "# Test\n",
    "a = ['A', 'G', 'C', 'A', 'C', 'F', 'F', 'T', 'H']\n",
    "print(DemSoLanXuatHien(a))\n"
   ]
  },
  {
   "cell_type": "code",
   "execution_count": 309,
   "id": "3e9bdd3d-1552-419e-a7b9-3776e0283f7b",
   "metadata": {},
   "outputs": [
    {
     "name": "stdout",
     "output_type": "stream",
     "text": [
      "{'A': 2, 'G': 1, 'C': 2, 'F': 2, 'T': 1, 'H': 1}\n"
     ]
    }
   ],
   "source": [
    "a = ['A', 'G', 'C', 'A', 'C', 'F', 'F', 'T', 'H']\n",
    "b = DemSoLanXuatHien(a)\n",
    "print(b)"
   ]
  },
  {
   "cell_type": "code",
   "execution_count": null,
   "id": "cd54f540-bc0e-44c5-9742-870ba37b6b0c",
   "metadata": {},
   "outputs": [],
   "source": []
  },
  {
   "cell_type": "markdown",
   "id": "d3f82f1f-d1a0-45b9-961b-b9c9f15098bd",
   "metadata": {},
   "source": [
    "## my_lesson3"
   ]
  },
  {
   "cell_type": "markdown",
   "id": "db736e11-8bb1-4a65-8dce-f0338d1b9eb5",
   "metadata": {},
   "source": [
    "### Bắt đầu"
   ]
  },
  {
   "cell_type": "code",
   "execution_count": 11,
   "id": "daad985b-59ff-4638-8e85-d72fcaafee69",
   "metadata": {},
   "outputs": [
    {
     "name": "stdout",
     "output_type": "stream",
     "text": [
      "1. Tạo một dãy số a có N phần tử (N = 10)\n",
      "Day so a:  [145 175 149 197 106 172 171 130 198 179]\n"
     ]
    }
   ],
   "source": [
    "import numpy as np # Khai báo thư viện numpy\n",
    "print(\"1. Tạo một dãy số a có N phần tử (N = 10)\")\n",
    "\"\"\" CÁC BẠN LÀM BÀI Ở ĐÂY \"\"\"\n",
    "a = np.array([])\n",
    "for i in range(1,10+1,1):\n",
    "    a = np.random.randint(100,200,10)\n",
    "\n",
    "print(\"Day so a: \", a)\n"
   ]
  },
  {
   "cell_type": "code",
   "execution_count": 13,
   "id": "c209ffb4-025e-4c44-8770-a052a28a55ae",
   "metadata": {},
   "outputs": [
    {
     "name": "stdout",
     "output_type": "stream",
     "text": [
      "2. Các thao tác tính toán đơn giản với dãy số a\n",
      "a. Binh phuong a:  [21025. 30625. 22201. 38809. 11236. 29584. 29241. 16900. 39204. 32041.]\n",
      "\n",
      "b. Do dai a:  10\n",
      "\n",
      "c. Gia tri lon nhat: [39204.0], gia tri nho nhat: [0], gia tri trung binh [27086.6]\n",
      "\n",
      "d. Phuong sai: [ 8647.61] va do lech chuan: [ 74781126.64]\n"
     ]
    }
   ],
   "source": [
    "import numpy as np\n",
    "print(\"2. Các thao tác tính toán đơn giản với dãy số a\")\n",
    "\"\"\" CÁC BẠN LÀM BÀI Ở ĐÂY \"\"\"\n",
    "a2 = np.array([])\n",
    "for i in a:\n",
    "    a2 = np.append(a2,i**2)\n",
    "na = len(a2)\n",
    "v_max = 0\n",
    "v_min = 0\n",
    "v_avg = 0;\n",
    "for i in a2:\n",
    "    v_max=max(i,v_max)\n",
    "    v_min=min(i,v_min)\n",
    "    v_avg = v_avg +i\n",
    "v_avg = v_avg / na\n",
    "v_var = a2.var()\n",
    "v_sigma2 =a2.std()\n",
    "print(\"a. Binh phuong a: \", a2)\n",
    "print(\"\\nb. Do dai a: \", na)\n",
    "\n",
    "\"\"\" CÁC BẠN LÀM BÀI Ở ĐÂY \"\"\"\n",
    "# ...\n",
    "\n",
    "print(f'\\nc. Gia tri lon nhat: [{v_max}], gia tri nho nhat: [{v_min}], gia tri trung binh [{v_avg}]')\n",
    "\n",
    "\"\"\" CÁC BẠN LÀM BÀI Ở ĐÂY \"\"\"\n",
    "# ...\n",
    "\n",
    "print(f'\\nd. Phuong sai: [{v_sigma2: .2f}] va do lech chuan: [{v_var: .2f}]')"
   ]
  },
  {
   "cell_type": "code",
   "execution_count": 15,
   "id": "b870c50e-5e5e-481f-9851-b3c0eabe360a",
   "metadata": {},
   "outputs": [
    {
     "name": "stdout",
     "output_type": "stream",
     "text": [
      "3. Xử lý khác trên dãy số\n",
      "a. Day so x: [ 1.  2.  3.  4.  5.  6.  7.  8.  9. 10.]\n"
     ]
    }
   ],
   "source": [
    "import numpy as np\n",
    "print(\"3. Xử lý khác trên dãy số\")\n",
    "\"\"\" CÁC BẠN LÀM BÀI Ở ĐÂY \"\"\"\n",
    "x = np.array([])\n",
    "for i in range (1,11,1):\n",
    "    x = np.append(x,i)\n",
    "# ...\n",
    "\n",
    "print(f'a. Day so x: {x}')"
   ]
  },
  {
   "cell_type": "code",
   "execution_count": 17,
   "id": "5a41d5db-b3dc-456b-a639-ac854d16b108",
   "metadata": {},
   "outputs": [
    {
     "name": "stdout",
     "output_type": "stream",
     "text": [
      "b. Cac phan tu chan trong day a, b: \n",
      "+ Day a: [145 175 149 197 106 172 171 130 198 179]\n",
      "  - Loc chan: [False, False, False, False, True, True, False, True, True, False]\n",
      "  - Day chua phan tu chan trong a: [106. 172. 130. 198.], so luong 4 phan tu.\n",
      "+ Day x: [ 1.  2.  3.  4.  5.  6.  7.  8.  9. 10.]\n",
      "  - Loc chan: [False, True, False, True, False, True, False, True, False, True]\n",
      "  - Day chua phan tu chan trong a: [ 2.  4.  6.  8. 10.], so luong 5 phan tu.\n"
     ]
    }
   ],
   "source": [
    "\"\"\" CÁC BẠN LÀM BÀI Ở ĐÂY \"\"\"\n",
    "import numpy as np\n",
    "a_la_chan =[]\n",
    "x_la_chan =[]\n",
    "a_chan = np.array([])\n",
    "x_chan = np.array([])\n",
    "n_a_chan = 0\n",
    "n_x_chan = 0\n",
    "for i in a :\n",
    "    if i % 2 == 0:\n",
    "        a_la_chan .append(True)\n",
    "        a_chan = np.append(a_chan,i)\n",
    "        n_a_chan+=1\n",
    "    else :\n",
    "        a_la_chan.append(False)\n",
    "for i in x :\n",
    "    if i % 2 == 0:\n",
    "        x_la_chan.append(True)\n",
    "        x_chan = np.append(x_chan,i)\n",
    "        n_x_chan+=1\n",
    "    else :\n",
    "        x_la_chan.append(False) \n",
    "\n",
    "\n",
    "print( \"b. Cac phan tu chan trong day a, b: \")\n",
    "print(f\"+ Day a: {a}\")\n",
    "print(f\"  - Loc chan: {a_la_chan}\")\n",
    "print(f\"  - Day chua phan tu chan trong a: {a_chan}, so luong {n_a_chan} phan tu.\")\n",
    "print(f\"+ Day x: {x}\")\n",
    "print(f\"  - Loc chan: {x_la_chan}\")\n",
    "print(f\"  - Day chua phan tu chan trong a: {x_chan}, so luong {n_x_chan} phan tu.\")"
   ]
  },
  {
   "cell_type": "code",
   "execution_count": 80,
   "id": "558c5394-d97c-4674-86b6-7d4632fcfb17",
   "metadata": {},
   "outputs": [
    {
     "name": "stdout",
     "output_type": "stream",
     "text": [
      "c.Tính hiệu các phần tử ở vị trí lẻ của mảng a và x: \n",
      "+ Vi tri le trong a va x: [1. 3. 5. 7. 9.]\n",
      "+ Day so a: [173 175 182 134 147 129 117 165 101 119] va cac so o vi tri le: [175. 134. 129. 165. 119.]\n",
      "+ Day so x: [ 1.  2.  3.  4.  5.  6.  7.  8.  9. 10.] va cac so o vi tri le: [ 2.  4.  6.  8. 10.]\n",
      "+ Hieu cua a va x o vi tri le: [173. 130. 123. 157. 109.]\n",
      "+ Khoang cach cac phan tu cua a va x o vi tri le:  313.83\n"
     ]
    }
   ],
   "source": [
    "\"\"\" CÁC BẠN LÀM BÀI Ở ĐÂY \"\"\"\n",
    "# ...\n",
    "v_le = np.array([])\n",
    "a_le = np.array([])\n",
    "x_le = np.array([])\n",
    "hieu_le = np.array([])\n",
    "for i in range (1,11,1):\n",
    "    if i % 2 != 0:\n",
    "        v_le = np.append(v_le,i)\n",
    "for i,value in enumerate(v_le.astype(int)):\n",
    "    a_le = np.append(a_le,a[value])\n",
    "    x_le = np.append(x_le,x[value])\n",
    "    hieu_le = np.append(hieu_le,a[value]-x[value])\n",
    "kc_le = np.linalg.norm(hieu_le)\n",
    "print( \"c.Tính hiệu các phần tử ở vị trí lẻ của mảng a và x: \")\n",
    "print(f\"+ Vi tri le trong a va x: {v_le}\")\n",
    "print(f\"+ Day so a: {a} va cac so o vi tri le: {a_le}\")\n",
    "print(f\"+ Day so x: {x} va cac so o vi tri le: {x_le}\")\n",
    "print(f\"+ Hieu cua a va x o vi tri le: {hieu_le}\")\n",
    "print(f\"+ Khoang cach cac phan tu cua a va x o vi tri le: {kc_le: .2f}\")"
   ]
  },
  {
   "cell_type": "code",
   "execution_count": 47,
   "id": "a2973078-f376-4ecf-ad5c-16310d9a0f7b",
   "metadata": {},
   "outputs": [
    {
     "name": "stdout",
     "output_type": "stream",
     "text": [
      "d. Tìm khoảng cách nhỏ nhất giữa tập a và x. Ví dụ: min({1, 3, 5}, {2, 10, 8}} = 1\n",
      "+ Day a: [[[[[[[[[[145]]\n",
      "\n",
      "        [[175]]\n",
      "\n",
      "        [[149]]\n",
      "\n",
      "        [[197]]\n",
      "\n",
      "        [[106]]\n",
      "\n",
      "        [[172]]\n",
      "\n",
      "        [[171]]\n",
      "\n",
      "        [[130]]\n",
      "\n",
      "        [[198]]\n",
      "\n",
      "        [[179]]]]]]]]]]\n",
      "+ Day x: [ 1.  2.  3.  4.  5.  6.  7.  8.  9. 10.]\n",
      "+ Khoang cach nho nhat: 96.0\n"
     ]
    }
   ],
   "source": [
    "print(\"d. Tìm khoảng cách nhỏ nhất giữa tập a và x. Ví dụ: min({1, 3, 5}, {2, 10, 8}} = 1\")\n",
    "\"\"\"\n",
    "Gợi ý: Áp dụng toán tử broatcasting\n",
    "[[1],                    [[1, 1, 1],        [[2, 10, 8],    =   [[-1, -9, -7],\n",
    " [3],   - [2, 10, 8] =    [3, 3, 3],   -     [2, 10, 8],         [ 1, -7, -5],  --> np.min(np.abs(...)) = 1\n",
    " [5]]                     [5, 5, 5]]         [2, 10, 8]]         [ 3, -5, -3]]\n",
    "\"\"\"\n",
    "\"\"\" CÁC BẠN LÀM BÀI Ở ĐÂY \"\"\"\n",
    "# Tăng số chiều dùng tại vị trí chiều cuối dùng np.newaxis như sau: a[:, np.newaxis]\n",
    "# ...\n",
    "a = a[:,np.newaxis]\n",
    "v_min = np.min(np.abs(a-x))\n",
    "# a = a[np.newaxis,:]\n",
    "\n",
    "print(f\"+ Day a: {a}\")\n",
    "print(f\"+ Day x: {x}\")\n",
    "print(f\"+ Khoang cach nho nhat: {v_min}\")"
   ]
  },
  {
   "cell_type": "code",
   "execution_count": 59,
   "id": "e08a6d69-c445-461c-a78a-07c7b8d85d34",
   "metadata": {},
   "outputs": [
    {
     "name": "stdout",
     "output_type": "stream",
     "text": [
      "a. Sinh ngẫu nhiên theo phân bố đều\n",
      "+ Giá trị: [ 1  2  3  4  5  6  7  8  9 10]\n",
      "+ Số lần xuất hiện: [ 975  977  981 1034  987 1015  977 1002 1024 1028]\n",
      "+ Đồ thị hàm số xuất hiện\n"
     ]
    },
    {
     "data": {
      "image/png": "[encoded data removed]",
      "text/plain": [
       "<Figure size 600x600 with 1 Axes>"
      ]
     },
     "metadata": {},
     "output_type": "display_data"
    }
   ],
   "source": [
    "import numpy as np\n",
    "import matplotlib.pyplot as plt  # Khai báo thư viện pyplot trong matplotlib\n",
    "\n",
    "a = np.random.randint(1, 11, size=10000)\n",
    "value, cnt = np.unique(a, return_counts=True)\n",
    "\n",
    "print(\"a. Sinh ngẫu nhiên theo phân bố đều\")\n",
    "print(f\"+ Giá trị: {value}\")\n",
    "print(f\"+ Số lần xuất hiện: {cnt}\")\n",
    "\n",
    "# Vẽ biểu đồ\n",
    "print(\"+ Đồ thị hàm số xuất hiện\")\n",
    "plt.figure(figsize=(6, 6))  # Kích thước đồ thị\n",
    "plt.bar(value, cnt, color='blue', alpha=0.7)  # Vẽ các cột với màu xanh\n",
    "plt.xlabel(\"Giá trị\")  # Nhãn trục x\n",
    "plt.ylabel(\"Số lần xuất hiện\")  # Nhãn trục y\n",
    "plt.title(\"Biểu đồ tần số xuất hiện\")  # Tiêu đề biểu đồ\n",
    "plt.xlim(0, 11)  # Giới hạn trục x\n",
    "plt.ylim(0, np.max(cnt) + 5)  # Giới hạn trục y\n",
    "plt.xticks(value)  # Hiển thị các nhãn trục x đúng giá trị có trong tập dữ liệu\n",
    "\n",
    "plt.savefig(\"4a.png\")  # Lưu đồ thị vào file\n",
    "plt.show()  # Hiển thị đồ thị\n"
   ]
  },
  {
   "cell_type": "code",
   "execution_count": 63,
   "id": "9fe75cce-0031-442f-a961-7a30095a73a1",
   "metadata": {},
   "outputs": [
    {
     "name": "stdout",
     "output_type": "stream",
     "text": [
      "b. Sinh cặp (x, y) với y làm hàm phân phối chuẩn\n",
      "+ x: -5 <= min [-4.89] <= max [ 5.00] <= 5\n",
      "+ Vẽ hàm số y(x)\n"
     ]
    },
    {
     "data": {
      "image/png": "[encoded data removed]",
      "text/plain": [
       "<Figure size 600x600 with 1 Axes>"
      ]
     },
     "metadata": {},
     "output_type": "display_data"
    }
   ],
   "source": [
    "import numpy as np\n",
    "import matplotlib.pyplot as plt\n",
    "\n",
    "x_min, x_max = -5, 5\n",
    "n_samples = 100 \n",
    "x = np.random.rand(n_samples) * (x_max - x_min) + x_min\n",
    "m, s = 0, 1 \n",
    "y = (1 / (s * np.sqrt(2 * np.pi))) * np.exp(-0.5 * ((x - m) / s) ** 2)\n",
    "\n",
    "print(\"b. Sinh cặp (x, y) với y làm hàm phân phối chuẩn\")\n",
    "print(f\"+ x: {x_min} <= min [{np.min(x): .2f}] <= max [{np.max(x): .2f}] <= {x_max}\")\n",
    "\n",
    "# Vẽ biểu đồ\n",
    "print(f\"+ Vẽ hàm số y(x)\")\n",
    "plt.figure(figsize=(6, 6)) \n",
    "plt.scatter(x, y, color='blue', alpha=0.7)  \n",
    "plt.xlabel(\"x\")\n",
    "plt.ylabel(\"y\")\n",
    "plt.title(\"Hàm phân phối chuẩn N(0,1)\")\n",
    "plt.savefig(\"4b.png\")  \n",
    "plt.show()  # \n"
   ]
  },
  {
   "cell_type": "code",
   "execution_count": 67,
   "id": "b017ff31-8fad-4e34-9a07-d3c3fdb72870",
   "metadata": {},
   "outputs": [
    {
     "name": "stdout",
     "output_type": "stream",
     "text": [
      "c. Sinh day so theo phan phoi chuan\n",
      "+ x: len = 10000, min [-3.5226719887090114], max [3.403250839525838]\n",
      "+ Mat so xac suat cua day so x\n"
     ]
    },
    {
     "data": {
      "image/png": "[encoded data removed]",
      "text/plain": [
       "<Figure size 600x600 with 1 Axes>"
      ]
     },
     "metadata": {},
     "output_type": "display_data"
    }
   ],
   "source": [
    "\"\"\" CÁC BẠN LÀM BÀI Ở ĐÂY \"\"\"\n",
    "# Sử dụng hàm np.random.randn() sinh phân phối chuẩn N(0,1) --> N(m,s^2) = m + N(0,1) * s\n",
    "# Sử dụng hàm np.histogram với density=True để thống kê số lần xuất hiện với số bins = 300 (do dãy số thực)\n",
    "# ...\n",
    "\n",
    "m, s = 0, 1\n",
    "n_samples = 10000\n",
    "x = m + np.random.randn(n_samples) * s\n",
    "cnt, edges = np.histogram(x, bins=300, density=True)\n",
    "val = (edges[:-1] + edges[1:]) / 2\n",
    "print( \"c. Sinh day so theo phan phoi chuan\")\n",
    "print(f\"+ x: len = {len(x)}, min [{np.min(x)}], max [{np.max(x)}]\")\n",
    "print(f\"+ Mat so xac suat cua day so x\")\n",
    "plt.figure(figsize=(6,6))      # kich thuoc ban ve\n",
    "plt.xlim(np.min(val), np.max(val))\n",
    "plt.scatter(val, cnt)\n",
    "plt.show()"
   ]
  },
  {
   "cell_type": "code",
   "execution_count": 69,
   "id": "8e200027-a54a-400d-a80d-b5060b441a87",
   "metadata": {},
   "outputs": [
    {
     "name": "stdout",
     "output_type": "stream",
     "text": [
      "Ma trận a: \n",
      " [[141 188 154 164]\n",
      " [197 115 140 169]\n",
      " [162 100 127 118]\n",
      " [129 174 132 111]\n",
      " [189 135 182 123]\n",
      " [106 192 162 118]]\n"
     ]
    }
   ],
   "source": [
    "# a = np.random.randint(100, 200, (6, 4))\n",
    "\"\"\" CÁC BẠN LÀM BÀI Ở ĐÂY \"\"\"\n",
    "# ...\n",
    "\n",
    "a = np.random.randint(100, 200, (6, 4))\n",
    "print(\"Ma trận a: \\n\", a)"
   ]
  },
  {
   "cell_type": "code",
   "execution_count": 71,
   "id": "f0f7dd23-046d-498c-800e-127c0f415901",
   "metadata": {},
   "outputs": [
    {
     "name": "stdout",
     "output_type": "stream",
     "text": [
      "a. In ra ma trận chuyển vị: \n",
      "[[141 197 162 129 189 106]\n",
      " [188 115 100 174 135 192]\n",
      " [154 140 127 132 182 162]\n",
      " [164 169 118 111 123 118]]\n",
      "\n",
      "b. In ra phần tử ở vị trí dòng 2 cột 3: 140\n",
      "\n",
      "c. Trích xuất các dòng: \n",
      "   + Dòng đầu : [141 188 154 164]\n",
      "   + Dòng cuối: [106 192 162 118]\n",
      "   + Dòng hai : [197 115 140 169]\n",
      "\n",
      "d. Trích xuất các cột: \n",
      "   + Cột kế cuối: [154 140 127 132 182 162]\n",
      "   + Cột đầu: [141 197 162 129 189 106]\n",
      "\n",
      "e. Đảo các giá trị trên từng cột: \n",
      " [[106 192 162 118]\n",
      " [189 135 182 123]\n",
      " [129 174 132 111]\n",
      " [162 100 127 118]\n",
      " [197 115 140 169]\n",
      " [141 188 154 164]]\n",
      "\n",
      "f. Phép tính theo trục:\n",
      "   + Tổng dòng: [647 621 507 546 629 578]\n",
      "   + Trung bình cột: [154.         150.66666667 149.5        133.83333333]\n"
     ]
    }
   ],
   "source": [
    "\"\"\" CÁC BẠN LÀM BÀI Ở ĐÂY \"\"\"\n",
    "# ...\n",
    "a_t = a.T\n",
    "v_23 = a[1, 2]  \n",
    "d_0 = a[0]       \n",
    "d_last = a[-1]   \n",
    "d_2 = a[1]       \n",
    "c_l1 = a[:, -2]  \n",
    "c_0 = a[:, 0]    \n",
    "dao_cot = np.flipud(a)\n",
    "tong_dong = np.sum(a, axis=1)    \n",
    "tb_cot = np.mean(a, axis=0)\n",
    "\n",
    "\n",
    "print(f\"a. In ra ma trận chuyển vị: \\n{a_t}\")\n",
    "print(f\"\\nb. In ra phần tử ở vị trí dòng 2 cột 3: {v_23}\")\n",
    "print(f\"\\nc. Trích xuất các dòng: \")\n",
    "print(f\"   + Dòng đầu : {d_0}\")\n",
    "print(f\"   + Dòng cuối: {d_last}\")\n",
    "print(f\"   + Dòng hai : {d_2}\")\n",
    "print(f\"\\nd. Trích xuất các cột: \")\n",
    "print(f\"   + Cột kế cuối: {c_l1}\")\n",
    "print(f\"   + Cột đầu: {c_0}\")\n",
    "print(f\"\\ne. Đảo các giá trị trên từng cột: \\n {dao_cot}\")\n",
    "print(f\"\\nf. Phép tính theo trục:\")\n",
    "print(f\"   + Tổng dòng: {tong_dong}\")\n",
    "print(f\"   + Trung bình cột: {tb_cot}\")"
   ]
  },
  {
   "cell_type": "code",
   "execution_count": 73,
   "id": "9c6cb1e4-3289-459d-a635-8296e8274c90",
   "metadata": {},
   "outputs": [
    {
     "name": "stdout",
     "output_type": "stream",
     "text": [
      "a. Tạo hai ma trận A và B có 4 dòng x 3 cột và X có 3 dòng x 4 cột\n",
      "+ Ma tran A: \n",
      "[[4 7 1]\n",
      " [5 3 1]\n",
      " [4 1 9]\n",
      " [7 5 9]]\n",
      "+ Ma tran B: \n",
      "[[2 8 7]\n",
      " [3 5 2]\n",
      " [7 7 7]\n",
      " [4 4 3]]\n",
      "+ Ma tran X: \n",
      "[[7 4 5 8]\n",
      " [9 5 4 6]\n",
      " [3 3 3 3]]\n",
      "\n",
      "b. Tính tổng, hiệu, tích của từng phần tử trên hai ma trận A và B\n",
      "A + B = \n",
      "[[ 6 15  8]\n",
      " [ 8  8  3]\n",
      " [11  8 16]\n",
      " [11  9 12]]\n",
      "A - B = \n",
      "[[ 2 -1 -6]\n",
      " [ 2 -2 -1]\n",
      " [-3 -6  2]\n",
      " [ 3  1  6]]\n",
      "A . B = \n",
      "[[ 8 56  7]\n",
      " [15 15  2]\n",
      " [28  7 63]\n",
      " [28 20 27]]\n",
      "\n",
      "c. Tính phép nhân ma trận Y = A x X\n",
      "Y = A x X --> shape A ((4, 3)) x shape X ((3, 4)) = shape Y ((4, 4)) \n",
      "[[ 94  54  51  77]\n",
      " [ 65  38  40  61]\n",
      " [ 64  48  51  65]\n",
      " [121  80  82 113]]\n"
     ]
    }
   ],
   "source": [
    "\"\"\" CÁC BẠN LÀM BÀI Ở ĐÂY \"\"\"\n",
    "# ...\n",
    "\n",
    "A = np.random.randint(1, 10, (4, 3))\n",
    "B = np.random.randint(1, 10, (4, 3))\n",
    "X = np.random.randint(1, 10, (3, 4))\n",
    "\n",
    "AB_add = A + B\n",
    "AB_sub = A - B\n",
    "AB_mul = A * B\n",
    "Y = np.dot(A, X)\n",
    "print(\"a. Tạo hai ma trận A và B có 4 dòng x 3 cột và X có 3 dòng x 4 cột\")\n",
    "print(f\"+ Ma tran A: \\n{A}\")\n",
    "print(f\"+ Ma tran B: \\n{B}\")\n",
    "print(f\"+ Ma tran X: \\n{X}\")\n",
    "\n",
    "print(\"\\nb. Tính tổng, hiệu, tích của từng phần tử trên hai ma trận A và B\")\n",
    "print(f\"A + B = \\n{AB_add}\")\n",
    "print(f\"A - B = \\n{AB_sub}\")\n",
    "print(f\"A . B = \\n{AB_mul}\")\n",
    "\n",
    "print(\"\\nc. Tính phép nhân ma trận Y = A x X\")\n",
    "print(f\"Y = A x X --> shape A ({A.shape}) x shape X ({X.shape}) = shape Y ({Y.shape}) \\n{Y}\")"
   ]
  },
  {
   "cell_type": "code",
   "execution_count": 75,
   "id": "ef3823eb-dd6f-45b8-9e92-566ca36b8fd3",
   "metadata": {},
   "outputs": [
    {
     "name": "stdout",
     "output_type": "stream",
     "text": [
      "+ Ma tran A: \n",
      "[[9 7 6]\n",
      " [6 9 2]\n",
      " [5 1 6]]\n",
      "+ Vector y: [8 3 7]\n",
      "+ Nghiem x: [ 0.53846154 -0.19230769  0.75      ]\n",
      "+ Kiem tra: yy = Ax = [8. 3. 7.] ==> ||yy -y ||_2 =  0.00\n"
     ]
    }
   ],
   "source": [
    "\"\"\" CÁC BẠN LÀM BÀI Ở ĐÂY \"\"\"\n",
    "# ...\n",
    "A = np.random.randint(1, 10, (3, 3))\n",
    "y = np.random.randint(1, 10, 3)\n",
    "\n",
    "# Giải hệ phương trình Ax = y\n",
    "x = np.linalg.solve(A, y)\n",
    "\n",
    "# Kiểm tra kết quả\n",
    "yy = np.dot(A, x)\n",
    "diff = np.linalg.norm(yy - y, 2)\n",
    "print(f\"+ Ma tran A: \\n{A}\")\n",
    "print(f\"+ Vector y: {y}\")\n",
    "print(f\"+ Nghiem x: {x}\")\n",
    "print(f\"+ Kiem tra: yy = Ax = {yy} ==> ||yy -y ||_2 = {diff: .2f}\")"
   ]
  },
  {
   "cell_type": "code",
   "execution_count": 77,
   "id": "b508a666-c222-4ddd-a864-65a07a5a18e2",
   "metadata": {},
   "outputs": [
    {
     "data": {
      "image/png": "[encoded data removed]",
      "text/plain": [
       "<Figure size 600x600 with 1 Axes>"
      ]
     },
     "metadata": {},
     "output_type": "display_data"
    }
   ],
   "source": [
    "import matplotlib.pyplot as plt # khai báo thư viện vẽ pyplot\n",
    "import math\n",
    "\n",
    "circle = plt.Circle((0, 0), 1, color='g') # tạo đối tượng vòng tròn\n",
    "\n",
    "fig, ax = plt.subplots(figsize=(6, 6)) # lấy figure và vùng vẽ\n",
    "\n",
    "plt.plot(0, 0, 'o', color=(0.9, 0.9, 1.0), alpha=0.8) # vẽ điểm tại tâm (0,0)\n",
    "ax.add_patch(circle) # thêm vòng tròn vào vùng vẽ\n",
    "\n",
    "x = 0.75; y = math.sqrt(1 - (x ** 2)) # (x = 0.75, y = căn bậc 2 của 1 - x^2)\n",
    "plt.arrow(0, 0, x, y)\n",
    "\n",
    "plt.xlim(-1, 1) # giới hạn trục x\n",
    "plt.ylim(-1, 1) # giới hạn trục y\n",
    "\n",
    "plt.savefig('pi.png') # lưu đồ thị xuống tập tin\n",
    "plt.show()            # hiển thị đồ thị"
   ]
  },
  {
   "cell_type": "code",
   "execution_count": 79,
   "id": "b48f79ee-8a18-4e58-a8c6-4977fc5071f5",
   "metadata": {},
   "outputs": [],
   "source": [
    "import numpy as np\n",
    "\n",
    "def calc_pi_monte_carlo(n = 100):\n",
    "    pi = 0\n",
    "    \n",
    "    # gợi ý: sử dụng np.random.rand(s1, s2, ...) --> sinh ngẫu nhiên các số trong nửa đoạn [0.0, 1.0)\n",
    "    \"\"\" CÁC BẠN LÀM BÀI Ở ĐÂY \"\"\"    \n",
    "    # ...\n",
    "    x = np.random.uniform(-1, 1, n)\n",
    "    y = np.random.uniform(-1, 1, n)\n",
    "    inside_circle = np.sum(x**2 + y**2 <= 1)\n",
    "    pi = (inside_circle / n) * 4\n",
    "    \n",
    "    return pi\n",
    "# calc_pi_monte_carlo"
   ]
  },
  {
   "cell_type": "code",
   "execution_count": 81,
   "id": "e3b557a7-7c24-4221-a086-028623bd57fd",
   "metadata": {
    "scrolled": true
   },
   "outputs": [
    {
     "name": "stdout",
     "output_type": "stream",
     "text": [
      "epsilon(n=100):  0.018407346410207026\n",
      "epsilon(n=100):  -0.02159265358979301\n",
      "epsilon(n=10000):  -0.006392653589792907\n",
      "epsilon(n=10000):  0.010007346410207063\n",
      "epsilon(n=1000000):  0.0005153464102067851\n",
      "epsilon(n=1000000):  0.001623346410206672\n"
     ]
    }
   ],
   "source": [
    "import math\n",
    "\n",
    "print(\"epsilon(n=100): \", calc_pi_monte_carlo(n = 100) - math.pi)\n",
    "print(\"epsilon(n=100): \", calc_pi_monte_carlo(n = 100) - math.pi)\n",
    "print(\"epsilon(n=10000): \", calc_pi_monte_carlo(n = 10000) - math.pi)\n",
    "print(\"epsilon(n=10000): \", calc_pi_monte_carlo(n = 10000) - math.pi)\n",
    "print(\"epsilon(n=1000000): \", calc_pi_monte_carlo(n = 1000000) - math.pi)\n",
    "print(\"epsilon(n=1000000): \", calc_pi_monte_carlo(n = 1000000) - math.pi)"
   ]
  },
  {
   "cell_type": "markdown",
   "id": "cbec94a8-da69-4b8b-930d-3df618c4c079",
   "metadata": {},
   "source": [
    "## kết thúc my_lesson3"
   ]
  },
  {
   "cell_type": "markdown",
   "id": "16f8db2f-8da4-4bde-843a-f5ece4c5d660",
   "metadata": {},
   "source": [
    "# kết thúc"
   ]
  }
 ],
 "metadata": {
  "kernelspec": {
   "display_name": "Python [conda env:my_env]",
   "language": "python",
   "name": "conda-env-my_env-py"
  },
  "language_info": {
   "codemirror_mode": {
    "name": "ipython",
    "version": 3
   },
   "file_extension": ".py",
   "mimetype": "text/x-python",
   "name": "python",
   "nbconvert_exporter": "python",
   "pygments_lexer": "ipython3",
   "version": "3.10.16"
  }
 },
 "nbformat": 4,
 "nbformat_minor": 5
}

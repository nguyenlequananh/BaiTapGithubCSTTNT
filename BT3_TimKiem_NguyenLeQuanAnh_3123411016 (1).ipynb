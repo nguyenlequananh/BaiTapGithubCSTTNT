{
 "cells": [
  {
   "cell_type": "markdown",
   "id": "d73a7679-03c7-448a-9eb7-0e66168a9b9a",
   "metadata": {},
   "source": [
    "# 2_3123411016_NguyenLeQuanAnh"
   ]
  },
  {
   "cell_type": "markdown",
   "id": "96dce369-4a77-42a3-b2a8-e18a56d53bdf",
   "metadata": {},
   "source": [
    "## my_lesson4"
   ]
  },
  {
   "cell_type": "markdown",
   "id": "446f8790-d282-4d37-bf96-71456b16d5ee",
   "metadata": {},
   "source": [
    "### Bắt đầu"
   ]
  },
  {
   "cell_type": "code",
   "execution_count": 14,
   "id": "7ef6bc74-81dc-4994-9761-a5aac7fef9aa",
   "metadata": {},
   "outputs": [
    {
     "name": "stdout",
     "output_type": "stream",
     "text": [
      "{'A': {'F', 'E', 'C', 'D'},\n",
      " 'B': {},\n",
      " 'C': {'H'},\n",
      " 'D': {'E', 'H'},\n",
      " 'E': {'K', 'I'},\n",
      " 'F': {'I', 'G'},\n",
      " 'G': {},\n",
      " 'H': {'K'},\n",
      " 'I': {'B', 'K'},\n",
      " 'K': {'B'}}\n"
     ]
    }
   ],
   "source": [
    "import pprint\n",
    "\n",
    "ADJ = {\n",
    "    'A': {'C', 'E', 'D', 'F'},\n",
    "    'B': {},\n",
    "    'C': {'H'},\n",
    "    'D': {'H', 'E'},\n",
    "    'E': {'K', 'I'},\n",
    "    'F': {'I', 'G'},\n",
    "    'G': {},\n",
    "    'H': {'K'},\n",
    "    'I': {'B', 'K'},\n",
    "    'K': {'B'}\n",
    "}\n",
    "pprint.pprint(ADJ)"
   ]
  },
  {
   "cell_type": "code",
   "execution_count": 18,
   "id": "fa6a7a65-c5b0-4af7-942b-4b82de2ba4aa",
   "metadata": {},
   "outputs": [
    {
     "name": "stdout",
     "output_type": "stream",
     "text": [
      "(a) Liệt kê các đỉnh trong đồ thị\n",
      "Các đỉnh của đồ thị: A B C D E F G H I K \n"
     ]
    }
   ],
   "source": [
    "import pprint\n",
    "\n",
    "print(\"(a) Liệt kê các đỉnh trong đồ thị\")\n",
    "print(\"Các đỉnh của đồ thị:\", end=\" \")\n",
    "\n",
    "for dinh in ADJ.keys():\n",
    "    print(dinh, end=\" \")\n",
    "\n",
    "print()  # Xuống dòng\n"
   ]
  },
  {
   "cell_type": "code",
   "execution_count": 22,
   "id": "497495c7-cda7-4653-ab7d-33aa464d91e5",
   "metadata": {},
   "outputs": [
    {
     "name": "stdout",
     "output_type": "stream",
     "text": [
      "(b) Liệt kê tất cả các cạnh đồ thị hiển thị dạng danh sách kề\n",
      "Danh sách kề của đồ thị: \n",
      "A: F, E, C, D\n",
      "B: \n",
      "C: H\n",
      "D: E, H\n",
      "E: K, I\n",
      "F: I, G\n",
      "G: \n",
      "H: K\n",
      "I: B, K\n",
      "K: B\n"
     ]
    }
   ],
   "source": [
    "def HienThiDoThi(G):\n",
    "    for dinh, ke in G.items():\n",
    "        print(f\"{dinh}: {', '.join(ke) if ke else ''}\")  \n",
    "\n",
    "print(\"(b) Liệt kê tất cả các cạnh đồ thị hiển thị dạng danh sách kề\")\n",
    "print(\"Danh sách kề của đồ thị: \")\n",
    "HienThiDoThi(ADJ)\n"
   ]
  },
  {
   "cell_type": "code",
   "execution_count": 38,
   "id": "ec6a4002-fc50-499b-a5a1-ff366135a0ef",
   "metadata": {},
   "outputs": [],
   "source": [
    "def LaKe(G, a, b):\n",
    "    \"\"\"\n",
    "    input: G, a, b\n",
    "    return: \n",
    "    + -1: đỉnh a hoặc b không tồn tại\n",
    "    +  0: đỉnh a, b tồn tại nhưng không kề nhau\n",
    "    +  1: đỉnh a, b tồn tại và kề nhau\n",
    "    \"\"\"\n",
    "    result = 0\n",
    "    if a not in G or b not in G:\n",
    "        return -1  \n",
    "    if b in G[a] or a in G[b]:\n",
    "        return 1 \n",
    "    \n",
    "    return result"
   ]
  },
  {
   "cell_type": "code",
   "execution_count": 40,
   "id": "fd745d8b-1efd-48dc-8f05-2932b8ce4563",
   "metadata": {},
   "outputs": [
    {
     "name": "stdout",
     "output_type": "stream",
     "text": [
      "L ke R: -1\n",
      "A ke R: -1\n",
      "E ke D: 1\n",
      "D ke E: 1\n"
     ]
    }
   ],
   "source": [
    "a = \"L\"; b = \"R\"; print(f\"{a} ke {b}: {LaKe(ADJ, a, b)}\")\n",
    "a = \"A\"; b = \"R\"; print(f\"{a} ke {b}: {LaKe(ADJ, a, b)}\")\n",
    "a = \"E\"; b = \"D\"; print(f\"{a} ke {b}: {LaKe(ADJ, a, b)}\")\n",
    "a = \"D\"; b = \"E\"; print(f\"{a} ke {b}: {LaKe(ADJ, a, b)}\")"
   ]
  },
  {
   "cell_type": "code",
   "execution_count": 42,
   "id": "649a1e1b-07db-4cac-a670-4c82126624b1",
   "metadata": {},
   "outputs": [
    {
     "name": "stdout",
     "output_type": "stream",
     "text": [
      "Danh sách kề với đỉnh P: None\n",
      "Danh sách kề với đỉnh A: ['F', 'E', 'C', 'D']\n",
      "Danh sách kề với đỉnh B: []\n",
      "Danh sách kề với đỉnh D: ['E', 'H']\n"
     ]
    }
   ],
   "source": [
    "def LayKe(G, a):\n",
    "    \"\"\"\n",
    "    input: G, a\n",
    "    return: \n",
    "    + None: nếu a không tồn tại\n",
    "    + []  : a không kề với bất kỳ đỉnh nào\n",
    "    + [x, y, ...]: danh sách các đỉnh kề với a\n",
    "    \"\"\"\n",
    "    if a not in G:\n",
    "        return None  \n",
    "    return list(G[a])\n",
    "\n",
    "a = \"P\"; print(f\"Danh sách kề với đỉnh {a}: {LayKe(ADJ, a)}\")\n",
    "a = \"A\"; print(f\"Danh sách kề với đỉnh {a}: {LayKe(ADJ, a)}\")\n",
    "a = \"B\"; print(f\"Danh sách kề với đỉnh {a}: {LayKe(ADJ, a)}\")\n",
    "a = \"D\"; print(f\"Danh sách kề với đỉnh {a}: {LayKe(ADJ, a)}\")\n"
   ]
  },
  {
   "cell_type": "code",
   "execution_count": 57,
   "id": "3077f135-4d3b-425e-822a-cdb376cd2e1b",
   "metadata": {},
   "outputs": [
    {
     "name": "stdout",
     "output_type": "stream",
     "text": [
      "1. Lưu đồ thị xuống tập tin\n",
      "Lưu đồ thị thành công xuống tập tin: dske1.txt\n",
      "A: F, E, C, D\n",
      "B: ∅\n",
      "C: H\n",
      "D: E, H\n",
      "E: K, I\n",
      "F: I, G\n",
      "G: ∅\n",
      "H: K\n",
      "I: B, K\n",
      "K: B\n"
     ]
    }
   ],
   "source": [
    "print(\"1. Lưu đồ thị xuống tập tin\")\n",
    "\n",
    "def LuuDoThi(G, file_path, verbose = True):\n",
    "    import os\n",
    "    file_dir = os.path.dirname(file_path)\n",
    "    if file_dir and not os.path.exists(file_dir):\n",
    "        os.makedirs(file_dir)\n",
    "        if verbose:\n",
    "            print(f\"+ Tạo thư mục: {file_dir}\")\n",
    "    with open(file_path, \"wt\", encoding=\"utf-8\") as file:\n",
    "        for dinh, ke in G.items():\n",
    "            # Ghi vào file theo định dạng \"đỉnh: danh sách đỉnh kề\"\n",
    "            file.write(f\"{dinh}: {', '.join(ke) if ke else '∅'}\\n\")\n",
    "\n",
    "        if verbose:\n",
    "            print(f\"Lưu đồ thị thành công xuống tập tin: {file_path}\")\n",
    "LuuDoThi(ADJ, \"dske1.txt\", verbose=True)\n",
    "with open(\"dske1.txt\", \"rt\", encoding=\"utf-8\") as file:\n",
    "    lines = file.readlines()\n",
    "    for line in lines:\n",
    "        print(line, end=\"\")"
   ]
  },
  {
   "cell_type": "code",
   "execution_count": 61,
   "id": "def22e62-81ec-4acc-a6b9-3eb60ab121b1",
   "metadata": {},
   "outputs": [
    {
     "name": "stdout",
     "output_type": "stream",
     "text": [
      "2. Đọc đồ thị từ tập tin\n",
      "{'A': {'F', 'E', 'C', 'D'},\n",
      " 'B': {'âˆ…'},\n",
      " 'C': {'H'},\n",
      " 'D': {'E', 'H'},\n",
      " 'E': {'K', 'I'},\n",
      " 'F': {'I', 'G'},\n",
      " 'G': {'âˆ…'},\n",
      " 'H': {'K'},\n",
      " 'I': {'B', 'K'},\n",
      " 'K': {'B'}}\n"
     ]
    }
   ],
   "source": [
    "print(\"2. Đọc đồ thị từ tập tin\")\n",
    "import pprint\n",
    "\n",
    "def DocDoThi(file_path, verbose = True):\n",
    "    \"\"\"\n",
    "    return:\n",
    "    + None: doc that bai\n",
    "    + <>None: tra ve do thi\n",
    "    \"\"\"\n",
    "    import os\n",
    "    \n",
    "    result = None\n",
    "    if os.path.exists(file_path) == False:\n",
    "        result = None\n",
    "    else:\n",
    "        G = {}\n",
    "        with open(file_path, \"rt\") as file:\n",
    "        \n",
    "            \n",
    "            for line in file:\n",
    "                parts = line.strip().split(\": \")\n",
    "                if len(parts) == 2:\n",
    "                    dinh = parts[0]\n",
    "                    danh_sach_ke = parts[1].split(\", \") if parts[1] != \"∅\" else []\n",
    "                    G[dinh] = set(danh_sach_ke)\n",
    "                    \n",
    "        result = G\n",
    "        \n",
    "    return result\n",
    "\n",
    "G1 = DocDoThi(\"dske1.txt\", verbose = True)\n",
    "pprint.pprint(G1)\n"
   ]
  },
  {
   "cell_type": "code",
   "execution_count": 63,
   "id": "2641aad5-9682-443b-87b3-1a76ba9e0bfb",
   "metadata": {},
   "outputs": [],
   "source": [
    "import pprint\n",
    "\n",
    "def BFS(G, start, goal):\n",
    "    \"\"\"\n",
    "    return: \n",
    "    + mang chua duong di tu a --> b, neu rong la ko co duong di\n",
    "    + None: dinh a, b khong hop le\n",
    "    \"\"\"\n",
    "    result = None\n",
    "    \n",
    "    if G.get(start) is None or G.get(goal) is None:\n",
    "        result = None\n",
    "    else:\n",
    "        path = {}   \n",
    "        s_open   = []\n",
    "        s_closed = []\n",
    "        s_open.append(start)    \n",
    "        path[start] = None\n",
    "        while len(s_open) > 0:\n",
    "            dinh_hien_tai = s_open.pop(0)  \n",
    "            s_closed.append(dinh_hien_tai)\n",
    "\n",
    "            if dinh_hien_tai == goal:\n",
    "                break  \n",
    "\n",
    "            for dinh_ke in G[dinh_hien_tai]:\n",
    "                if dinh_ke not in s_open and dinh_ke not in s_closed:\n",
    "                    s_open.append(dinh_ke)\n",
    "                    path[dinh_ke] = dinh_hien_tai \n",
    "\n",
    "    return path \n"
   ]
  },
  {
   "cell_type": "code",
   "execution_count": 65,
   "id": "9359edc4-1d6f-404b-94c6-a78ec924b73d",
   "metadata": {},
   "outputs": [
    {
     "name": "stdout",
     "output_type": "stream",
     "text": [
      "{'A': None,\n",
      " 'B': 'I',\n",
      " 'C': 'A',\n",
      " 'D': 'A',\n",
      " 'E': 'A',\n",
      " 'F': 'A',\n",
      " 'G': 'F',\n",
      " 'H': 'C',\n",
      " 'I': 'F',\n",
      " 'K': 'E'}\n"
     ]
    }
   ],
   "source": [
    "path = BFS(ADJ, \"A\", \"B\")\n",
    "pprint.pprint(path)"
   ]
  },
  {
   "cell_type": "code",
   "execution_count": 67,
   "id": "acf23cf6-7732-436e-ac83-f629edc3dd3b",
   "metadata": {},
   "outputs": [],
   "source": [
    "def find_path(path, start, goal):\n",
    "    \"\"\"\n",
    "    Cho mang truy hoi duong, tim ds dinh tu start --> goal\n",
    "    \"\"\"\n",
    "    result = []\n",
    "\n",
    "    if goal not in path:\n",
    "        return result\n",
    "    dinh_hien_tai = goal\n",
    "    while dinh_hien_tai is not None:\n",
    "        result.append(dinh_hien_tai)\n",
    "        dinh_hien_tai = path[dinh_hien_tai]\n",
    "    result.reverse()\n",
    "    \n",
    "    return result\n"
   ]
  },
  {
   "cell_type": "code",
   "execution_count": 71,
   "id": "43babf67-b0bd-40a4-98d0-d1eec3fe963d",
   "metadata": {},
   "outputs": [
    {
     "data": {
      "text/plain": [
       "['A', 'F', 'I', 'B']"
      ]
     },
     "execution_count": 71,
     "metadata": {},
     "output_type": "execute_result"
    }
   ],
   "source": [
    "find_path(path, 'A', 'B')"
   ]
  },
  {
   "cell_type": "code",
   "execution_count": 73,
   "id": "5b00cb6f-a0f2-4237-b13b-af50cfefacab",
   "metadata": {},
   "outputs": [],
   "source": [
    "import pprint\n",
    "\n",
    "def DFS(G, start, goal):\n",
    "    \"\"\"\n",
    "    return: \n",
    "    + mang chua duong di tu a --> b, neu rong la ko co duong di\n",
    "    + None: dinh a, b khong hop le\n",
    "    \"\"\"\n",
    "    result = None\n",
    "    \n",
    "    if G.get(start) is None or G.get(goal) is None:\n",
    "        result = None\n",
    "    else:\n",
    "        path = {}     # path[a]=b nghia la muon di toi dinh b phai qua a\n",
    "        s_open   = []\n",
    "        s_closed = []\n",
    "        \n",
    "        # đưa start vào open\n",
    "        s_open.append(start)    \n",
    "        path[start] = None\n",
    "        while len(s_open)>0:\n",
    "            \"\"\" CÁC BẠN LÀM BÀI Ở ĐÂY \"\"\"\n",
    "            # ...\n",
    "            dinh_hien_tai = s_open.pop()  # Lấy đỉnh cuối cùng (DFS - LIFO)\n",
    "            \n",
    "            if dinh_hien_tai == goal:\n",
    "                return path  # Tìm thấy goal, trả về đường đi\n",
    "                \n",
    "            if dinh_hien_tai not in s_closed:\n",
    "                s_closed.append(dinh_hien_tai)\n",
    "\n",
    "                for dinh_ke in sorted(G[dinh_hien_tai], reverse=True):  # Duyệt theo thứ tự giảm dần\n",
    "                    if dinh_ke not in s_closed and dinh_ke not in s_open:\n",
    "                        s_open.append(dinh_ke)\n",
    "                        path[dinh_ke] = dinh_hien_tai\n",
    "        \n",
    "    return path"
   ]
  },
  {
   "cell_type": "code",
   "execution_count": 75,
   "id": "be8206f7-67a9-4e5d-8708-937d88b415e7",
   "metadata": {},
   "outputs": [
    {
     "name": "stdout",
     "output_type": "stream",
     "text": [
      "{'A': None,\n",
      " 'B': 'K',\n",
      " 'C': 'A',\n",
      " 'D': 'A',\n",
      " 'E': 'A',\n",
      " 'F': 'A',\n",
      " 'H': 'C',\n",
      " 'K': 'H'}\n"
     ]
    }
   ],
   "source": [
    "path = DFS(ADJ, \"A\", \"B\")\n",
    "pprint.pprint(path)"
   ]
  },
  {
   "cell_type": "markdown",
   "id": "7fb28115-60af-4d6b-859d-2e840ee3c909",
   "metadata": {},
   "source": [
    "### Kết thúc"
   ]
  },
  {
   "cell_type": "code",
   "execution_count": null,
   "id": "f4225caf-8ba1-4124-a5b6-dc19122cd524",
   "metadata": {},
   "outputs": [],
   "source": []
  }
 ],
 "metadata": {
  "kernelspec": {
   "display_name": "Python [conda env:my_env]",
   "language": "python",
   "name": "conda-env-my_env-py"
  },
  "language_info": {
   "codemirror_mode": {
    "name": "ipython",
    "version": 3
   },
   "file_extension": ".py",
   "mimetype": "text/x-python",
   "name": "python",
   "nbconvert_exporter": "python",
   "pygments_lexer": "ipython3",
   "version": "3.10.16"
  }
 },
 "nbformat": 4,
 "nbformat_minor": 5
}
